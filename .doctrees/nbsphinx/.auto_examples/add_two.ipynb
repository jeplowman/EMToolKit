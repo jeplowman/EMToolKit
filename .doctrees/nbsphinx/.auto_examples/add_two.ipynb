{
 "cells": [
  {
   "cell_type": "markdown",
   "metadata": {},
   "source": [
    "\n",
    "# Adding Two Numbers\n",
    "\n",
    "This example demonstrates how to use the add_numbers function from EMToolKit.\n",
    "\n",
    "The function takes two numbers as input and returns their sum.\n"
   ]
  },
  {
   "cell_type": "code",
   "execution_count": 1,
   "metadata": {
    "collapsed": false,
    "execution": {
     "iopub.execute_input": "2024-08-05T10:20:16.176567Z",
     "iopub.status.busy": "2024-08-05T10:20:16.176367Z",
     "iopub.status.idle": "2024-08-05T10:20:16.546538Z",
     "shell.execute_reply": "2024-08-05T10:20:16.545846Z"
    }
   },
   "outputs": [
    {
     "name": "stdout",
     "output_type": "stream",
     "text": [
      "Hello World\n"
     ]
    }
   ],
   "source": [
    "import matplotlib.pyplot as plt\n",
    "# from EMToolKit.example_module import add_numbers\n",
    "\n",
    "def main():\n",
    "    # Example usage of the add_numbers function\n",
    "\n",
    "    print(\"Hello World\")\n",
    "\n",
    "    # result1 = add_numbers(2, 3)\n",
    "    # result2 = add_numbers(4.5, 5.5)\n",
    "\n",
    "    # # Print the results\n",
    "    # print(f\"add_numbers(2, 3) = {result1}\")\n",
    "    # print(f\"add_numbers(4.5, 5.5) = {result2}\")\n",
    "\n",
    "    # # Plot the results\n",
    "    # plt.figure()\n",
    "    # plt.bar([\"2 + 3\", \"4.5 + 5.5\"], [result1, result2])\n",
    "    # plt.title(\"Results of add_numbers function\")\n",
    "    # plt.xlabel(\"Operations\")\n",
    "    # plt.ylabel(\"Results\")\n",
    "    # plt.show()\n",
    "\n",
    "if __name__ == \"__main__\":\n",
    "    main()"
   ]
  }
 ],
 "metadata": {
  "kernelspec": {
   "display_name": "Python 3",
   "language": "python",
   "name": "python3"
  },
  "language_info": {
   "codemirror_mode": {
    "name": "ipython",
    "version": 3
   },
   "file_extension": ".py",
   "mimetype": "text/x-python",
   "name": "python",
   "nbconvert_exporter": "python",
   "pygments_lexer": "ipython3",
   "version": "3.10.14"
  }
 },
 "nbformat": 4,
 "nbformat_minor": 0
}
