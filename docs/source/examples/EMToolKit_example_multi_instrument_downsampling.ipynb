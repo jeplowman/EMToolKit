{
 "cells": [
  {
   "cell_type": "markdown",
   "id": "391e9adc",
   "metadata": {},
   "source": [
    "# Multi-Instrument Downsampling Dashboard"
   ]
  },
  {
   "cell_type": "markdown",
   "id": "432db0ed",
   "metadata": {},
   "source": [
    "### Import Statements"
   ]
  },
  {
   "cell_type": "code",
   "execution_count": 1,
   "id": "77d2a1a9",
   "metadata": {},
   "outputs": [
    {
     "data": {
      "text/html": [
       "<style>:root { --jp-notebook-max-width: 100% !important; }</style>"
      ],
      "text/plain": [
       "<IPython.core.display.HTML object>"
      ]
     },
     "metadata": {},
     "output_type": "display_data"
    }
   ],
   "source": [
    "# %pip install astropy scipy ipympl ndcube numba xrtpy sunpy lxml drms zeep\n",
    "from IPython.display import display, HTML\n",
    "display(HTML(\"<style>:root { --jp-notebook-max-width: 100% !important; }</style>\"))\n",
    "\n",
    "\n",
    "import importlib, numpy as np\n",
    "from sys import path\n",
    "import time, os, copy\n",
    "\n",
    "from sunpy.map import Map\n",
    "from sunpy.net import Fido, vso, attrs as a\n",
    "from sunpy.time import TimeRange\n",
    "from ndcube import NDCube, NDCubeSequence, NDCollection\n",
    "from astropy import wcs\n",
    "\n",
    "import astropy.units as u\n",
    "import matplotlib.pyplot as plt\n",
    "plt.rcParams.update({'font.size': 18}) # Make the fonts in figures big enough for papers\n",
    "plt.rcParams.update({'figure.figsize':[27,15]})\n",
    "plt.rcParams.update({'image.origin':'lower'})\n",
    "np.set_printoptions(linewidth=128)\n",
    "\n",
    "base_path = os.getcwd()\n",
    "\n",
    "import EMToolKit.EMToolKit as emtk\n",
    "from EMToolKit.visualization.dashboard import dashboard_object\n",
    "from EMToolKit.instruments.aia import load_from_paths, aia_wrapper\n",
    "from EMToolKit.instruments.xrt import xrt_wrapper\n",
    "from EMToolKit.algorithms.sparse_em_wrapper import sparse_em_wrapper\n",
    "from EMToolKit.algorithms.simple_reg_dem_wrapper import simple_reg_dem_wrapper\n",
    "from EMToolKit.algorithms.sparse_nlmap_dem_wrapper import sparse_nlmap_dem_wrapper"
   ]
  },
  {
   "cell_type": "code",
   "execution_count": 2,
   "id": "3f9b107d",
   "metadata": {},
   "outputs": [],
   "source": [
    "import EMToolKit\n",
    "import EMToolKit.visualization\n",
    "importlib.reload(EMToolKit)\n",
    "importlib.reload(EMToolKit.visualization)\n",
    "importlib.reload(EMToolKit.visualization.dashboard)\n",
    "import EMToolKit.EMToolKit as emtk\n",
    "from EMToolKit.visualization.dashboard import dashboard_object\n",
    "em_collection=0"
   ]
  },
  {
   "cell_type": "code",
   "execution_count": 3,
   "id": "5783f36b",
   "metadata": {},
   "outputs": [],
   "source": [
    "daystr = '20100725'\n",
    "date='2010/07/25 17:58:44'\n",
    "data_path = os.path.join(base_path,'.data',daystr)\n",
    "\n",
    "\n",
    "from EMToolKit.instruments.aia import download_sdo_data\n",
    "from EMToolKit.instruments.xrt import download_xrt_data\n",
    "\n",
    "date='2010/07/25 17:58:44'\n",
    "redownload=False\n",
    "# Download the data\n",
    "aia_paths, sdo_data_dir = download_sdo_data(base_path, date, redownload=redownload)\n",
    "xrt_paths, xrt_data_dir = download_xrt_data(base_path, date, redownload=redownload)\n",
    "paths = aia_paths + xrt_paths\n",
    "\n",
    "\n",
    "# xl, yl, dx, dy = 240*u.arcsec, -525*u.arcsec, 270*u.arcsec, 240*u.arcsec\n",
    "# #xl, yl, dx, dy = 240*u.arcsec, -525*u.arcsec, 135*u.arcsec, 120*u.arcsec\n",
    "\n",
    "# # Commands for initial data download. Comment out once that's successful.\n",
    "# # VSO can sometimes be a bit flakey here, in my experience, may require multiple tries:\n",
    "# #paths = []\n",
    "# #passbands = np.array([94,131,171,193,211,335])*u.angstrom\n",
    "# #for band in passbands:\n",
    "# #    qry = Fido.search(a.Time(TimeRange(date,12*u.s)),a.Instrument('AIA'),a.Wavelength(band))[0,0]\n",
    "# #    paths.append(Fido.fetch(qry,path=data_path))\n",
    "\n",
    "# aia94dat_path = os.path.join(data_path,'aia_lev1_94a_2010_07_25t17_58_44_13z_image_lev1.fits')\n",
    "# aia131dat_path = os.path.join(data_path,'aia_lev1_131a_2010_07_25t17_58_45_62z_image_lev1.fits')\n",
    "# aia171dat_path = os.path.join(data_path,'aia_lev1_171a_2010_07_25t17_58_36_34z_image_lev1.fits')\n",
    "# aia193dat_path = os.path.join(data_path,'aia_lev1_193a_2010_07_25t17_58_43_84z_image_lev1.fits')\n",
    "# aia211dat_path = os.path.join(data_path,'aia_lev1_211a_2010_07_25t17_58_36_62z_image_lev1.fits')\n",
    "# aia335dat_path = os.path.join(data_path,'aia_lev1_335a_2010_07_25t17_58_39_63z_image_lev1.fits')\n",
    "\n",
    "# # Hinode data was downloaded directly rather than using Fido since I had trouble getting it the latter way:\n",
    "# hinode_path = os.path.join(data_path,'XRT20100725_175844.2.fits')\n",
    "\n",
    "# paths = [aia94dat_path, aia131dat_path, aia171dat_path, aia193dat_path, aia211dat_path, aia335dat_path, hinode_path]\n",
    "# channel_names = np.array(['AIA94_THIN', 'AIA131_THIN', 'AIA171_THIN', 'AIA193_THIN', 'AIA211_THIN', 'AIA335_THIN', 'XRT'])"
   ]
  },
  {
   "cell_type": "code",
   "execution_count": 4,
   "id": "3597b531",
   "metadata": {},
   "outputs": [
    {
     "ename": "ValueError",
     "evalue": "Did not find any files at /Users/cgilbert/vscode/EMToolKit/docs/source/examples/data/20100725/aia_lev1_94a_2010_07_25t17_58_44_13z_image_lev1.fits",
     "output_type": "error",
     "traceback": [
      "\u001b[0;31m---------------------------------------------------------------------------\u001b[0m",
      "\u001b[0;31mValueError\u001b[0m                                Traceback (most recent call last)",
      "Cell \u001b[0;32mIn[4], line 1\u001b[0m\n\u001b[0;32m----> 1\u001b[0m aiamaps \u001b[38;5;241m=\u001b[39m \u001b[43mload_from_paths\u001b[49m\u001b[43m(\u001b[49m\u001b[43mpaths\u001b[49m\u001b[43m[\u001b[49m\u001b[38;5;241;43m0\u001b[39;49m\u001b[43m:\u001b[49m\u001b[38;5;241;43m6\u001b[39;49m\u001b[43m]\u001b[49m\u001b[43m,\u001b[49m\u001b[43mxl\u001b[49m\u001b[38;5;241;43m=\u001b[39;49m\u001b[43mxl\u001b[49m\u001b[43m,\u001b[49m\u001b[43myl\u001b[49m\u001b[38;5;241;43m=\u001b[39;49m\u001b[43myl\u001b[49m\u001b[43m,\u001b[49m\u001b[43mdx\u001b[49m\u001b[38;5;241;43m=\u001b[39;49m\u001b[43mdx\u001b[49m\u001b[43m,\u001b[49m\u001b[43mdy\u001b[49m\u001b[38;5;241;43m=\u001b[39;49m\u001b[43mdy\u001b[49m\u001b[43m)\u001b[49m\n\u001b[1;32m      2\u001b[0m \u001b[38;5;66;03m# We're loading these separately so that we can apply an offset to the XRT data -- there appears\u001b[39;00m\n\u001b[1;32m      3\u001b[0m \u001b[38;5;66;03m# to be a significant misalignment based on manual inspection and testing:\u001b[39;00m\n\u001b[1;32m      4\u001b[0m \u001b[38;5;66;03m#xrt_offsets = [-2*u.arcsec, -11*u.arcsec]\u001b[39;00m\n\u001b[1;32m      5\u001b[0m \u001b[38;5;66;03m#xrt_offsets = [-7*u.arcsec, -23*u.arcsec]\u001b[39;00m\n\u001b[1;32m      6\u001b[0m xrt_offsets \u001b[38;5;241m=\u001b[39m [\u001b[38;5;241m-\u001b[39m\u001b[38;5;241m5\u001b[39m\u001b[38;5;241m*\u001b[39mu\u001b[38;5;241m.\u001b[39marcsec, \u001b[38;5;241m-\u001b[39m\u001b[38;5;241m20\u001b[39m\u001b[38;5;241m*\u001b[39mu\u001b[38;5;241m.\u001b[39marcsec]\n",
      "File \u001b[0;32m~/vscode/EMToolKit/EMToolKit/instruments/aia.py:122\u001b[0m, in \u001b[0;36mload_from_paths\u001b[0;34m(paths, xl, yl, dx, dy, refindex)\u001b[0m\n\u001b[1;32m    104\u001b[0m \u001b[38;5;28;01mdef\u001b[39;00m \u001b[38;5;21mload_from_paths\u001b[39m(paths, xl\u001b[38;5;241m=\u001b[39m\u001b[38;5;28;01mNone\u001b[39;00m, yl\u001b[38;5;241m=\u001b[39m\u001b[38;5;28;01mNone\u001b[39;00m, dx\u001b[38;5;241m=\u001b[39m\u001b[38;5;28;01mNone\u001b[39;00m, dy\u001b[38;5;241m=\u001b[39m\u001b[38;5;28;01mNone\u001b[39;00m, refindex\u001b[38;5;241m=\u001b[39m\u001b[38;5;241m0\u001b[39m):\n\u001b[1;32m    105\u001b[0m \u001b[38;5;250m    \u001b[39m\u001b[38;5;124;03m\"\"\"\u001b[39;00m\n\u001b[1;32m    106\u001b[0m \u001b[38;5;124;03m    Loads AIA data from a set of file paths and returns the necessary arguments\u001b[39;00m\n\u001b[1;32m    107\u001b[0m \u001b[38;5;124;03m    for use in an EMToolKit DataSequence. This includes a list of SunPy maps,\u001b[39;00m\n\u001b[0;32m   (...)\u001b[0m\n\u001b[1;32m    120\u001b[0m \u001b[38;5;124;03m        list: A list of SunPy maps after optional cropping.\u001b[39;00m\n\u001b[1;32m    121\u001b[0m \u001b[38;5;124;03m    \"\"\"\u001b[39;00m\n\u001b[0;32m--> 122\u001b[0m     refmap \u001b[38;5;241m=\u001b[39m \u001b[43mMap\u001b[49m\u001b[43m(\u001b[49m\u001b[43mpaths\u001b[49m\u001b[43m[\u001b[49m\u001b[43mrefindex\u001b[49m\u001b[43m]\u001b[49m\u001b[43m)\u001b[49m\n\u001b[1;32m    123\u001b[0m     nocrop \u001b[38;5;241m=\u001b[39m (xl \u001b[38;5;129;01mis\u001b[39;00m \u001b[38;5;28;01mNone\u001b[39;00m \u001b[38;5;129;01mor\u001b[39;00m yl \u001b[38;5;129;01mis\u001b[39;00m \u001b[38;5;28;01mNone\u001b[39;00m \u001b[38;5;129;01mor\u001b[39;00m dx \u001b[38;5;129;01mis\u001b[39;00m \u001b[38;5;28;01mNone\u001b[39;00m \u001b[38;5;129;01mor\u001b[39;00m dy \u001b[38;5;129;01mis\u001b[39;00m \u001b[38;5;28;01mNone\u001b[39;00m)\n\u001b[1;32m    124\u001b[0m     \u001b[38;5;28;01mif\u001b[39;00m \u001b[38;5;129;01mnot\u001b[39;00m nocrop:\n",
      "File \u001b[0;32m/opt/homebrew/anaconda3/envs/EMToolkit_env/lib/python3.10/site-packages/astropy/utils/decorators.py:603\u001b[0m, in \u001b[0;36mdeprecated_renamed_argument.<locals>.decorator.<locals>.wrapper\u001b[0;34m(*args, **kwargs)\u001b[0m\n\u001b[1;32m    600\u001b[0m             msg \u001b[38;5;241m+\u001b[39m\u001b[38;5;241m=\u001b[39m \u001b[38;5;124mf\u001b[39m\u001b[38;5;124m\"\u001b[39m\u001b[38;5;130;01m\\n\u001b[39;00m\u001b[38;5;124m        Use \u001b[39m\u001b[38;5;132;01m{\u001b[39;00malternative\u001b[38;5;132;01m}\u001b[39;00m\u001b[38;5;124m instead.\u001b[39m\u001b[38;5;124m\"\u001b[39m\n\u001b[1;32m    601\u001b[0m         warnings\u001b[38;5;241m.\u001b[39mwarn(msg, warning_type, stacklevel\u001b[38;5;241m=\u001b[39m\u001b[38;5;241m2\u001b[39m)\n\u001b[0;32m--> 603\u001b[0m \u001b[38;5;28;01mreturn\u001b[39;00m \u001b[43mfunction\u001b[49m\u001b[43m(\u001b[49m\u001b[38;5;241;43m*\u001b[39;49m\u001b[43margs\u001b[49m\u001b[43m,\u001b[49m\u001b[43m \u001b[49m\u001b[38;5;241;43m*\u001b[39;49m\u001b[38;5;241;43m*\u001b[39;49m\u001b[43mkwargs\u001b[49m\u001b[43m)\u001b[49m\n",
      "File \u001b[0;32m/opt/homebrew/anaconda3/envs/EMToolkit_env/lib/python3.10/site-packages/sunpy/map/map_factory.py:261\u001b[0m, in \u001b[0;36mMapFactory.__call__\u001b[0;34m(self, composite, sequence, silence_errors, allow_errors, *args, **kwargs)\u001b[0m\n\u001b[1;32m    229\u001b[0m \u001b[38;5;129m@deprecated_renamed_argument\u001b[39m(\u001b[38;5;124m\"\u001b[39m\u001b[38;5;124msilence_errors\u001b[39m\u001b[38;5;124m\"\u001b[39m, \u001b[38;5;124m\"\u001b[39m\u001b[38;5;124mallow_errors\u001b[39m\u001b[38;5;124m\"\u001b[39m, \u001b[38;5;124m\"\u001b[39m\u001b[38;5;124m5.1\u001b[39m\u001b[38;5;124m\"\u001b[39m, warning_type\u001b[38;5;241m=\u001b[39mSunpyDeprecationWarning)\n\u001b[1;32m    230\u001b[0m \u001b[38;5;28;01mdef\u001b[39;00m \u001b[38;5;21m__call__\u001b[39m(\u001b[38;5;28mself\u001b[39m, \u001b[38;5;241m*\u001b[39margs, composite\u001b[38;5;241m=\u001b[39m\u001b[38;5;28;01mFalse\u001b[39;00m, sequence\u001b[38;5;241m=\u001b[39m\u001b[38;5;28;01mFalse\u001b[39;00m, silence_errors\u001b[38;5;241m=\u001b[39m\u001b[38;5;28;01mFalse\u001b[39;00m, allow_errors\u001b[38;5;241m=\u001b[39m\u001b[38;5;28;01mFalse\u001b[39;00m, \u001b[38;5;241m*\u001b[39m\u001b[38;5;241m*\u001b[39mkwargs):\n\u001b[1;32m    231\u001b[0m \u001b[38;5;250m    \u001b[39m\u001b[38;5;124;03m\"\"\" Method for running the factory. Takes arbitrary arguments and\u001b[39;00m\n\u001b[1;32m    232\u001b[0m \u001b[38;5;124;03m    keyword arguments and passes them to a sequence of pre-registered types\u001b[39;00m\n\u001b[1;32m    233\u001b[0m \u001b[38;5;124;03m    to determine which is the correct Map-type to build.\u001b[39;00m\n\u001b[0;32m   (...)\u001b[0m\n\u001b[1;32m    259\u001b[0m \u001b[38;5;124;03m    ``memmap`` for FITS files.\u001b[39;00m\n\u001b[1;32m    260\u001b[0m \u001b[38;5;124;03m    \"\"\"\u001b[39;00m\n\u001b[0;32m--> 261\u001b[0m     data_header_pairs \u001b[38;5;241m=\u001b[39m \u001b[38;5;28;43mself\u001b[39;49m\u001b[38;5;241;43m.\u001b[39;49m\u001b[43m_parse_args\u001b[49m\u001b[43m(\u001b[49m\u001b[38;5;241;43m*\u001b[39;49m\u001b[43margs\u001b[49m\u001b[43m,\u001b[49m\u001b[43m \u001b[49m\u001b[43msilence_errors\u001b[49m\u001b[38;5;241;43m=\u001b[39;49m\u001b[43msilence_errors\u001b[49m\u001b[43m,\u001b[49m\u001b[43m \u001b[49m\u001b[43mallow_errors\u001b[49m\u001b[38;5;241;43m=\u001b[39;49m\u001b[43mallow_errors\u001b[49m\u001b[43m,\u001b[49m\u001b[43m \u001b[49m\u001b[38;5;241;43m*\u001b[39;49m\u001b[38;5;241;43m*\u001b[39;49m\u001b[43mkwargs\u001b[49m\u001b[43m)\u001b[49m\n\u001b[1;32m    262\u001b[0m     new_maps \u001b[38;5;241m=\u001b[39m \u001b[38;5;28mlist\u001b[39m()\n\u001b[1;32m    264\u001b[0m     \u001b[38;5;66;03m# Loop over each registered type and check to see if WidgetType\u001b[39;00m\n\u001b[1;32m    265\u001b[0m     \u001b[38;5;66;03m# matches the arguments.  If it does, use that type.\u001b[39;00m\n",
      "File \u001b[0;32m/opt/homebrew/anaconda3/envs/EMToolkit_env/lib/python3.10/site-packages/sunpy/map/map_factory.py:185\u001b[0m, in \u001b[0;36mMapFactory._parse_args\u001b[0;34m(self, silence_errors, allow_errors, *args, **kwargs)\u001b[0m\n\u001b[1;32m    183\u001b[0m \u001b[38;5;28;01mfor\u001b[39;00m arg \u001b[38;5;129;01min\u001b[39;00m args:\n\u001b[1;32m    184\u001b[0m     \u001b[38;5;28;01mtry\u001b[39;00m:\n\u001b[0;32m--> 185\u001b[0m         data_header_pairs \u001b[38;5;241m+\u001b[39m\u001b[38;5;241m=\u001b[39m \u001b[38;5;28;43mself\u001b[39;49m\u001b[38;5;241;43m.\u001b[39;49m\u001b[43m_parse_arg\u001b[49m\u001b[43m(\u001b[49m\u001b[43marg\u001b[49m\u001b[43m,\u001b[49m\u001b[43m \u001b[49m\u001b[43msilence_errors\u001b[49m\u001b[38;5;241;43m=\u001b[39;49m\u001b[43msilence_errors\u001b[49m\u001b[43m,\u001b[49m\u001b[43m \u001b[49m\u001b[43mallow_errors\u001b[49m\u001b[38;5;241;43m=\u001b[39;49m\u001b[43mallow_errors\u001b[49m\u001b[43m,\u001b[49m\u001b[43m \u001b[49m\u001b[38;5;241;43m*\u001b[39;49m\u001b[38;5;241;43m*\u001b[39;49m\u001b[43mkwargs\u001b[49m\u001b[43m)\u001b[49m\n\u001b[1;32m    186\u001b[0m     \u001b[38;5;28;01mexcept\u001b[39;00m NoMapsInFileError \u001b[38;5;28;01mas\u001b[39;00m e:\n\u001b[1;32m    187\u001b[0m         \u001b[38;5;28;01mif\u001b[39;00m \u001b[38;5;129;01mnot\u001b[39;00m (silence_errors \u001b[38;5;129;01mor\u001b[39;00m allow_errors):\n",
      "File \u001b[0;32m/opt/homebrew/anaconda3/envs/EMToolkit_env/lib/python3.10/site-packages/sunpy/util/functools.py:17\u001b[0m, in \u001b[0;36mseconddispatch.<locals>.wrapper\u001b[0;34m(*args, **kwargs)\u001b[0m\n\u001b[1;32m     16\u001b[0m \u001b[38;5;28;01mdef\u001b[39;00m \u001b[38;5;21mwrapper\u001b[39m(\u001b[38;5;241m*\u001b[39margs, \u001b[38;5;241m*\u001b[39m\u001b[38;5;241m*\u001b[39mkwargs):\n\u001b[0;32m---> 17\u001b[0m     \u001b[38;5;28;01mreturn\u001b[39;00m \u001b[43mdispatcher\u001b[49m\u001b[38;5;241;43m.\u001b[39;49m\u001b[43mdispatch\u001b[49m\u001b[43m(\u001b[49m\u001b[43margs\u001b[49m\u001b[43m[\u001b[49m\u001b[38;5;241;43m1\u001b[39;49m\u001b[43m]\u001b[49m\u001b[38;5;241;43m.\u001b[39;49m\u001b[38;5;18;43m__class__\u001b[39;49m\u001b[43m)\u001b[49m\u001b[43m(\u001b[49m\u001b[38;5;241;43m*\u001b[39;49m\u001b[43margs\u001b[49m\u001b[43m,\u001b[49m\u001b[43m \u001b[49m\u001b[38;5;241;43m*\u001b[39;49m\u001b[38;5;241;43m*\u001b[39;49m\u001b[43mkwargs\u001b[49m\u001b[43m)\u001b[49m\n",
      "File \u001b[0;32m/opt/homebrew/anaconda3/envs/EMToolkit_env/lib/python3.10/site-packages/sunpy/map/map_factory.py:227\u001b[0m, in \u001b[0;36mMapFactory._parse_path\u001b[0;34m(self, arg, **kwargs)\u001b[0m\n\u001b[1;32m    225\u001b[0m \u001b[38;5;129m@_parse_arg\u001b[39m\u001b[38;5;241m.\u001b[39mregister(pathlib\u001b[38;5;241m.\u001b[39mPath)\n\u001b[1;32m    226\u001b[0m \u001b[38;5;28;01mdef\u001b[39;00m \u001b[38;5;21m_parse_path\u001b[39m(\u001b[38;5;28mself\u001b[39m, arg, \u001b[38;5;241m*\u001b[39m\u001b[38;5;241m*\u001b[39mkwargs):\n\u001b[0;32m--> 227\u001b[0m     \u001b[38;5;28;01mreturn\u001b[39;00m \u001b[43mparse_path\u001b[49m\u001b[43m(\u001b[49m\u001b[43marg\u001b[49m\u001b[43m,\u001b[49m\u001b[43m \u001b[49m\u001b[38;5;28;43mself\u001b[39;49m\u001b[38;5;241;43m.\u001b[39;49m\u001b[43m_read_file\u001b[49m\u001b[43m,\u001b[49m\u001b[43m \u001b[49m\u001b[38;5;241;43m*\u001b[39;49m\u001b[38;5;241;43m*\u001b[39;49m\u001b[43mkwargs\u001b[49m\u001b[43m)\u001b[49m\n",
      "File \u001b[0;32m/opt/homebrew/anaconda3/envs/EMToolkit_env/lib/python3.10/site-packages/sunpy/util/io.py:44\u001b[0m, in \u001b[0;36mparse_path\u001b[0;34m(path, f, **kwargs)\u001b[0m\n\u001b[1;32m     42\u001b[0m     \u001b[38;5;28;01mreturn\u001b[39;00m read_files\n\u001b[1;32m     43\u001b[0m \u001b[38;5;28;01melse\u001b[39;00m:\n\u001b[0;32m---> 44\u001b[0m     \u001b[38;5;28;01mraise\u001b[39;00m \u001b[38;5;167;01mValueError\u001b[39;00m(\u001b[38;5;124mf\u001b[39m\u001b[38;5;124m'\u001b[39m\u001b[38;5;124mDid not find any files at \u001b[39m\u001b[38;5;132;01m{\u001b[39;00mpath\u001b[38;5;132;01m}\u001b[39;00m\u001b[38;5;124m'\u001b[39m)\n",
      "\u001b[0;31mValueError\u001b[0m: Did not find any files at /Users/cgilbert/vscode/EMToolKit/docs/source/examples/data/20100725/aia_lev1_94a_2010_07_25t17_58_44_13z_image_lev1.fits"
     ]
    }
   ],
   "source": [
    "aiamaps = load_from_paths(paths[0:6],xl=xl,yl=yl,dx=dx,dy=dy)\n",
    "# We're loading these separately so that we can apply an offset to the XRT data -- there appears\n",
    "# to be a significant misalignment based on manual inspection and testing:\n",
    "#xrt_offsets = [-2*u.arcsec, -11*u.arcsec]\n",
    "#xrt_offsets = [-7*u.arcsec, -23*u.arcsec]\n",
    "xrt_offsets = [-5*u.arcsec, -20*u.arcsec]\n",
    "xrtmap = load_from_paths([[paths[0]],hinode_path],xl=xl+xrt_offsets[0],yl=yl+xrt_offsets[1],dx=dx,dy=dy)[1]\n",
    "xrtmap.meta['crval1'] -= xrt_offsets[0].value\n",
    "xrtmap.meta['crval2'] -= xrt_offsets[1].value\n",
    "\n",
    "[xrtmaps,xrterrs,xrt_trlogts,xrt_tresps] = xrt_wrapper([xrtmap])\n",
    "[maps,errs,trlogts,tresps] = aia_wrapper(aiamaps)\n",
    "maps.append(xrtmaps[0])\n",
    "errs.append(xrterrs[0])\n",
    "trlogts.append(xrt_trlogts[0])\n",
    "tresps.append(xrt_tresps[0])\n",
    "\n",
    "logt = np.linspace(5.5,7.5,41)\n",
    "for i in range(0,len(tresps)):\n",
    "\ttresps[i] = np.interp(logt,trlogts[i],tresps[i])\n",
    "\ttrlogts[i] = copy.deepcopy(logt)\n",
    "\n",
    "# Normalizing the response functions makes them much easier for the solver to handle.\n",
    "datmax_nominal = 1.0e4 # The nominal maximum of the data\n",
    "overall_norm = datmax_nominal/np.max(np.array(tresps))\n",
    "norms = np.max(np.array(tresps),axis=0)/np.max(np.array(tresps))/overall_norm"
   ]
  },
  {
   "cell_type": "code",
   "execution_count": null,
   "id": "d9d9e99e",
   "metadata": {},
   "outputs": [],
   "source": [
    "# Make data sequence from AIA data:\n",
    "datasequence = emtk.em_data(maps,errs,trlogts,tresps)\n",
    "\n",
    "# Create em_collection with AIA data:\n",
    "em_collection = emtk.em_collection(datasequence)"
   ]
  },
  {
   "cell_type": "code",
   "execution_count": null,
   "id": "fe6b296a",
   "metadata": {},
   "outputs": [],
   "source": [
    "# Show some of the AIA channels and their temperature responses for illustration:\n",
    "plt_emmax = 5.0e28\n",
    "gfac = 1.0/2.2\n",
    "\n",
    "fig, axs = plt.subplots(2, 3)\n",
    "axs[0,0].imshow(np.clip(maps[1].data/np.max(tresps[1]),0,plt_emmax)**gfac,cmap=plt.get_cmap('gray'))\n",
    "axs[0,0].set(title='AIA 193 Angstrom')\n",
    "axs[1,0].plot(trlogts[1],tresps[1]/1.0e-27)\n",
    "axs[1,0].set(title='AIA 193 Temperature Response',xlabel='Temperature (dB Kelvin)',ylabel='Response (DN/s/(10$^9$ cm$^{-3})^2$/Mm)')\n",
    "\n",
    "axs[0,1].imshow(np.clip(maps[2].data/np.max(tresps[2]),0,plt_emmax)**gfac,cmap=plt.get_cmap('gray'))\n",
    "axs[0,1].set(title='AIA 335 Angstrom')\n",
    "axs[1,1].plot(trlogts[2],tresps[2]/1.0e-27)\n",
    "axs[1,1].set(title='AIA 335 Temperature Response',xlabel='Temperature (dB Kelvin)',ylabel='Response (DN/s/(cm$^{-3})^2$/Mm)')\n",
    "\n",
    "axs[0,2].imshow(np.clip(maps[5].data/np.max(tresps[5]),0,plt_emmax)**gfac,cmap=plt.get_cmap('gray'))\n",
    "axs[0,2].set(title='AIA 94 Angstrom')\n",
    "axs[1,2].plot(trlogts[5],tresps[5]/1.0e-27)\n",
    "axs[1,2].set(title='AIA 94 Temperature Response',xlabel='Temperature (dB Kelvin)',ylabel='Response (DN/s/(cm$^{-3})^2$/Mm)')"
   ]
  },
  {
   "cell_type": "code",
   "execution_count": null,
   "id": "3828a08f-77fd-4c6b-9688-3d14164bd9d3",
   "metadata": {},
   "outputs": [],
   "source": [
    "multi_coeffs, multi_logts, multi_bases, multi_coords, multi_algorithm, multi_em_wrapper = sparse_nlmap_dem_wrapper(datasequence, wrapargs={'norms':norms, 'overall_norm':overall_norm})"
   ]
  },
  {
   "cell_type": "code",
   "execution_count": null,
   "id": "b3ff869f-2c80-4611-a047-c2f928fb1359",
   "metadata": {},
   "outputs": [],
   "source": [
    "multi_em_demsequence = emtk.dem_model(multi_coeffs, multi_logts, multi_bases, multi_coords, multi_algorithm, multi_em_wrapper)\n",
    "em_collection.add_model(multi_em_demsequence)"
   ]
  },
  {
   "cell_type": "markdown",
   "id": "689d4d97",
   "metadata": {},
   "source": [
    "### Run the Dashboard"
   ]
  },
  {
   "cell_type": "code",
   "execution_count": null,
   "id": "53350f69",
   "metadata": {},
   "outputs": [],
   "source": [
    "# Get the most recent version from the tool kit:\n",
    "from EMToolKit.visualization.dashboard import dashboard_object\n",
    "importlib.reload(EMToolKit.visualization.dashboard)\n",
    "from EMToolKit.visualization.dashboard import dashboard_object\n",
    "\n",
    "# Suppress specific SunpyMetadataWarning\n",
    "import warnings\n",
    "from sunpy.util.exceptions import SunpyMetadataWarning\n",
    "warnings.filterwarnings(\"ignore\", category=SunpyMetadataWarning)"
   ]
  },
  {
   "cell_type": "code",
   "execution_count": null,
   "id": "c5c30d46",
   "metadata": {},
   "outputs": [],
   "source": [
    "# Create the dashboard:\n",
    "dash = dashboard_object(em_collection, xsize=8, ysize=4, fontsize=8)\n",
    "dash.display(False)"
   ]
  },
  {
   "cell_type": "code",
   "execution_count": null,
   "id": "e53c3d1b-407b-4030-952e-68a45e1f21cd",
   "metadata": {},
   "outputs": [],
   "source": [
    "multi_synthmaps = [em_collection.synthesize_map(map) for map in em_collection.data()]\n",
    "multi_synthdata = [map for map in multi_synthmaps]"
   ]
  },
  {
   "cell_type": "code",
   "execution_count": null,
   "id": "a8005dd9",
   "metadata": {},
   "outputs": [],
   "source": [
    "def calc_resids(synthdata, em_collection):# Calculate the residuals and Chi squared:\n",
    "\tndata = len(synthdata)\n",
    "\tresids = []\n",
    "\tdatasequence = em_collection.data()\n",
    "\tchi2 = 0\n",
    "\t[nx,ny] = datasequence[0].data.shape\n",
    "\tfor seq in datasequence: [nx,ny] = [np.min([seq.data.shape[0],nx]),np.min([seq.data.shape[1],ny])]\n",
    "\tfor i in range(0,ndata):\n",
    "\t\tresids.append(((synthdata[i].data-datasequence[i].data)/datasequence[i].uncertainty.array)**2)\n",
    "\t\tchi2 += np.mean(resids[i])/ndata\n",
    "\treturn resids, chi2\n",
    "\n",
    "#spars_resids, spars_chi2 = calc_resids(spars_synthdata,em_collection)\n",
    "#simpl_resids, simpl_chi2 = calc_resids(simpl_synthdata,em_collection)\n",
    "multi_resids, multi_chi2 = calc_resids(multi_synthdata,em_collection)\n",
    "print(\"Multi-instrument Chi squared = \",multi_chi2)\n",
    "#print('simple_reg_dem Chi squared = ',simpl_chi2, 'spars_em Chi squared = ',spars_chi2)"
   ]
  },
  {
   "cell_type": "code",
   "execution_count": null,
   "id": "6b3ed125",
   "metadata": {},
   "outputs": [],
   "source": [
    "# Plot Residuals:\n",
    "fig = plt.figure(figsize=[20,12])\n",
    "plt.suptitle('Residuals for '+multi_algorithm)\n",
    "for i in range(0,7):\n",
    "    ax1 = fig.add_subplot(2,4,i+1)\n",
    "    ax1.imshow(multi_resids[i],vmin=0,vmax=5)\n",
    "    ax1.set(title=em_collection.data()[i].meta['channel'])"
   ]
  },
  {
   "cell_type": "code",
   "execution_count": null,
   "id": "52bcd063",
   "metadata": {},
   "outputs": [],
   "source": [
    "from __future__ import print_function\n",
    "from ipywidgets import interact, interactive, fixed, interact_manual\n",
    "import ipywidgets as widgets\n",
    "\n",
    "\n",
    "class dashboard_object(object):\n",
    "    def __init__(self,em_collection):\n",
    "        self.emc = em_collection\n",
    "\n",
    "    def widgwrap(self, xpt, ypt, rtemp, gtemp, btemp, sigma, algorithm):\n",
    "        dashboard_object(self.emc, plotpoint=[xpt,ypt], temperatures=[rtemp,gtemp,btemp], sigmas=sigma, algorithm=algorithm)"
   ]
  },
  {
   "cell_type": "code",
   "execution_count": null,
   "id": "dbcf6d3e",
   "metadata": {},
   "outputs": [],
   "source": [
    "importlib.reload(EMToolKit.visualization.dashboard)\n",
    "from EMToolKit.visualization.dashboard import dashboard_object\n",
    "dash = dashboard_object(em_collection)"
   ]
  },
  {
   "cell_type": "code",
   "execution_count": null,
   "id": "c296f04b",
   "metadata": {},
   "outputs": [],
   "source": [
    "[nx,ny] = dash.emc.collection[dash.emc.collection['models'][0]][0].data.shape\n",
    "xpt=widgets.IntSlider(min=0, max=nx, value=10, step=1, description='xpt', continuous_update=False)\n",
    "ypt=widgets.IntSlider(min=0, max=ny, value=100, step=1, description='ypt', continuous_update=False)\n",
    "rtemp=widgets.FloatSlider(min=5, max=7, value=5.8, step=0.05, description='rtemp', continuous_update=False)\n",
    "gtemp=widgets.FloatSlider(min=5, max=7, value=6.1, step=0.05, description='gtemp', continuous_update=False)\n",
    "btemp=widgets.FloatSlider(min=5, max=7, value=6.4, step=0.05, description='btemp', continuous_update=False)\n",
    "sigma=widgets.FloatSlider(min=0.025, max=0.5, value=0.125, step=0.01, description='sigma', continuous_update=False)\n",
    "algorithm=widgets.Dropdown(options=dash.emc.collection['models'], description='algorithm', continuous_update=False)\n",
    "ui = widgets.HBox([xpt,ypt,rtemp,gtemp,btemp,sigma,algorithm])\n",
    "out = widgets.interactive_output(dash.widgwrap, {'xpt':xpt,'ypt':ypt,'rtemp':rtemp,'gtemp':gtemp,'btemp':btemp,'sigma':sigma,'algorithm':algorithm})\n",
    "display(ui,out)"
   ]
  },
  {
   "cell_type": "code",
   "execution_count": null,
   "id": "8a27721d-f578-4605-8cdc-c8b5133093b2",
   "metadata": {},
   "outputs": [],
   "source": []
  }
 ],
 "metadata": {
  "kernelspec": {
   "display_name": "Python 3 (ipykernel)",
   "language": "python",
   "name": "python3"
  },
  "language_info": {
   "codemirror_mode": {
    "name": "ipython",
    "version": 3
   },
   "file_extension": ".py",
   "mimetype": "text/x-python",
   "name": "python",
   "nbconvert_exporter": "python",
   "pygments_lexer": "ipython3",
   "version": "3.10.12"
  }
 },
 "nbformat": 4,
 "nbformat_minor": 5
}
