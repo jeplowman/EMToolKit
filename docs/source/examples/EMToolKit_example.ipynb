{
 "cells": [
  {
   "cell_type": "markdown",
   "id": "432db0ed",
   "metadata": {},
   "source": [
    "# EMToolKit Dashboard Example\n",
    "\n",
    "## This software shows the user how to use the dashboard"
   ]
  },
  {
   "cell_type": "markdown",
   "id": "783cd7a0",
   "metadata": {},
   "source": [
    "### Import Statements"
   ]
  },
  {
   "cell_type": "code",
   "execution_count": null,
   "id": "48cb178c",
   "metadata": {},
   "outputs": [],
   "source": [
    "# Standard library imports\n",
    "import importlib\n",
    "import os.path\n",
    "import pickle\n",
    "import time\n",
    "from sys import path\n",
    "\n",
    "# Third-party library imports\n",
    "import numpy as np\n",
    "import matplotlib.pyplot as plt\n",
    "import astropy.units as u\n",
    "import matplotlib\n",
    "from sunpy.map import Map\n",
    "from sunpy.net import Fido, attrs as a, vso\n",
    "from sunpy.time import TimeRange\n",
    "from ndcube import NDCube, NDCubeSequence, NDCollection\n",
    "from astropy import wcs\n",
    "\n",
    "# EMToolKit specific imports\n",
    "import EMToolKit\n",
    "import EMToolKit.visualization\n",
    "import EMToolKit.EMToolKit as emtk\n",
    "from EMToolKit.visualization.dashboard import dashboard_object\n",
    "from EMToolKit.instruments.aia import load_from_paths, aia_wrapper\n",
    "from EMToolKit.algorithms.sparse_em_wrapper import sparse_em_wrapper\n",
    "from EMToolKit.algorithms.simple_reg_dem_wrapper import simple_reg_dem_wrapper\n",
    "\n",
    "# Reloading modules (if necessary)\n",
    "importlib.reload(EMToolKit)\n",
    "importlib.reload(EMToolKit.visualization)\n",
    "\n",
    "# Jupyter/IPython specific commands\n",
    "%matplotlib widget\n",
    "# matplotlib.use(\"qt5Agg\")\n",
    "# jupyter nbextension enable --py widgetsnbextension\n",
    "\n",
    "# Configuration settings\n",
    "plt.rcParams.update({'font.size': 18, 'figure.figsize': [27, 15], 'image.origin': 'lower'})\n",
    "np.set_printoptions(linewidth=128)\n",
    "\n",
    "# Setting the base path\n",
    "base_path = \"../\"\n",
    "emtk_path = base_path + 'code/'\n",
    "path.append(emtk_path)\n",
    "\n",
    "# Display HTML for notebook width\n",
    "from IPython.display import display, HTML\n",
    "display(HTML(\"<style>:root { --jp-notebook-max-width: 100% !important; }</style>\"))\n",
    "\n",
    "# Initialization\n",
    "em_collection = 0\n"
   ]
  },
  {
   "cell_type": "code",
   "execution_count": null,
   "id": "7b1abd01",
   "metadata": {},
   "outputs": [],
   "source": [
    "# These flags tell the program not to recalculate the data if it has already been calculated\n",
    "redownload = False\n",
    "recalc_sparse = False\n",
    "recalc_simple = False"
   ]
  },
  {
   "cell_type": "markdown",
   "id": "2d45451b",
   "metadata": {},
   "source": [
    "### Download the Imagery"
   ]
  },
  {
   "cell_type": "code",
   "execution_count": null,
   "id": "5783f36b",
   "metadata": {},
   "outputs": [],
   "source": [
    "xlen = 400*0.6*u.arcsec # 125*u.arcsec # X size of FOV in arcseconds\n",
    "ylen = 400*0.6*u.arcsec # 175*u.arcsec # Y size of FOV in arcseconds\n",
    "xl = -0*u.arcsec # Left edge of FOV in arcseconds (relative to disk center)\n",
    "yl = -0*u.arcsec # Right edge of FOV in arcseconds (relative to disk center)\n",
    "\n",
    "sdo_data_dir = base_path+\"data/20120711/\" # Place to put data files. You'll need to change it or create these subdirectories\n",
    "# Example data to load. We'll use a part of the field of view observed by the Hi-C rocket in 2012.\n",
    "date='2012/07/11 18:54:00'\n",
    "if not os.path.exists(sdo_data_dir):\n",
    "    os.makedirs(sdo_data_dir)\n",
    "paths = [sdo_data_dir + path for path in os.listdir(sdo_data_dir)\n",
    "         if (os.path.isfile(os.path.join(sdo_data_dir, path)) and \".fits\" in path)]\n",
    "print(f\"Searching for images from {date}...\")\n",
    "\n",
    "if len(paths) == 0 or redownload:\n",
    "# Commands for initial data download. Comment out once that's successful.\n",
    "# VSO can sometimes be a bit flakey here, in my experience, may require multiple tries:\n",
    "    dl_paths = []\n",
    "    passbands = np.array([94,131,171,193,211,335])*u.angstrom\n",
    "\n",
    "    # Combine the wavelength queries using the | operator\n",
    "    wavelength_query = a.Wavelength(passbands[0])\n",
    "    for band in passbands[1:]:\n",
    "        wavelength_query |= a.Wavelength(band)\n",
    "\n",
    "    qry = Fido.search(a.Time(TimeRange(date,12*u.s)),a.Instrument('AIA'),wavelength_query)\n",
    "\n",
    "    print(\"Downloading images...\")\n",
    "    Fido.fetch(qry,path=sdo_data_dir, max_conn=len(passbands)+1)\n",
    "\n",
    "paths = [sdo_data_dir + path for path in os.listdir(sdo_data_dir)\n",
    "         if (os.path.isfile(os.path.join(sdo_data_dir, path)) and \".fits\" in path)]\n",
    "\n",
    "print(f\"Found {len(paths)} images on disk.\")\n",
    "# asdf= [print(x) for x in paths]\n"
   ]
  },
  {
   "cell_type": "code",
   "execution_count": null,
   "id": "3597b531",
   "metadata": {},
   "outputs": [],
   "source": [
    "# Load the AIA data:\n",
    "maps = load_from_paths(paths,xl=xl,yl=yl,dx=xlen,dy=ylen)\n",
    "[maps,errs,trlogts,tresps] = aia_wrapper(maps)\n",
    "\n",
    "# Make data sequence from AIA data:\n",
    "datasequence = emtk.em_data(maps,errs,trlogts,tresps)\n",
    "\n",
    "# Create em_collection with AIA data:\n",
    "em_collection = emtk.em_collection(datasequence)\n"
   ]
  },
  {
   "cell_type": "code",
   "execution_count": null,
   "id": "fe6b296a",
   "metadata": {},
   "outputs": [],
   "source": [
    "# Show some of the AIA channels and their temperature responses for illustration:\n",
    "plt_emmax = 5.0e28\n",
    "gfac = 1.0/2.2\n",
    "\n",
    "do_plot = False\n",
    "\n",
    "if do_plot:\n",
    "    fig, axs = plt.subplots(2, 3)\n",
    "    axs[0,0].imshow(np.clip(maps[1].data/np.max(tresps[1]),0,plt_emmax)**gfac,cmap=plt.get_cmap('gray'))\n",
    "    axs[0,0].set(title='AIA 193 Angstrom')\n",
    "    axs[1,0].plot(trlogts[1],tresps[1]/1.0e-27)\n",
    "    axs[1,0].set(title='AIA 193 Temperature Response',xlabel='Temperature (dB Kelvin)',ylabel='Response (DN/s/(10$^9$ cm$^{-3})^2$/Mm)')\n",
    "\n",
    "    axs[0,1].imshow(np.clip(maps[2].data/np.max(tresps[2]),0,plt_emmax)**gfac,cmap=plt.get_cmap('gray'))\n",
    "    axs[0,1].set(title='AIA 335 Angstrom')\n",
    "    axs[1,1].plot(trlogts[2],tresps[2]/1.0e-27)\n",
    "    axs[1,1].set(title='AIA 335 Temperature Response',xlabel='Temperature (dB Kelvin)',ylabel='Response (DN/s/(cm$^{-3})^2$/Mm)')\n",
    "\n",
    "    axs[0,2].imshow(np.clip(maps[5].data/np.max(tresps[5]),0,plt_emmax)**gfac,cmap=plt.get_cmap('gray'))\n",
    "    axs[0,2].set(title='AIA 94 Angstrom')\n",
    "    axs[1,2].plot(trlogts[5],tresps[5]/1.0e-27)\n",
    "    axs[1,2].set(title='AIA 94 Temperature Response',xlabel='Temperature (dB Kelvin)',ylabel='Response (DN/s/(cm$^{-3})^2$/Mm)')"
   ]
  },
  {
   "cell_type": "markdown",
   "id": "d9d9e99e",
   "metadata": {},
   "source": [
    "### Compute the Differential Emission Measures"
   ]
  },
  {
   "cell_type": "code",
   "execution_count": null,
   "id": "9d966fbd",
   "metadata": {},
   "outputs": [],
   "source": [
    "# Compute the DEM for Cheung et al. sparse EM method:\n",
    "# Make DEM sequence from the DEM and add it to the collection:\n",
    "pk_file = f'{sdo_data_dir}/sparse_em_demsequence.pkl'\n",
    "\n",
    "if os.path.exists(pk_file) and not recalc_sparse:\n",
    "    with open(pk_file, 'rb') as file:\n",
    "        (sparse_em_demsequence, spars_out) = pickle.load(file)\n",
    "else:\n",
    "    tstart=time.time()\n",
    "    spars_out = sparse_em_wrapper(datasequence)\n",
    "    sparse_em_demsequence = emtk.dem_model(*spars_out, sparse_em_wrapper)\n",
    "    print('Sparse method took',time.time()-tstart)\n",
    "    with open(pk_file, 'wb') as file:\n",
    "        pickle.dump((sparse_em_demsequence, spars_out), file)\n",
    "\n",
    "spars_coeffs, spars_logts, spars_bases, spars_coords, spars_algorithm = spars_out\n",
    "em_collection.add_model(sparse_em_demsequence)"
   ]
  },
  {
   "cell_type": "code",
   "execution_count": null,
   "id": "43773b46",
   "metadata": {},
   "outputs": [],
   "source": [
    "# Compute the DEM for Plowman & Caspi simple_reg_dem method:\n",
    "# Make DEM sequence from the DEM and add it to the collection:\n",
    "pk_file = f'{sdo_data_dir}/simple_reg_demsequence.pkl'\n",
    "# if(('simple_reg_demsequence' in locals()) == False):\n",
    "recalc = False\n",
    "if os.path.exists(pk_file) and not recalc_simple:\n",
    "    with open(pk_file, 'rb') as file:\n",
    "        (simple_reg_demsequence, simpl_out) = pickle.load(file)\n",
    "else:\n",
    "    tstart=time.time()\n",
    "    simpl_out = simple_reg_dem_wrapper(datasequence)\n",
    "    print('Simple method took',time.time()-tstart)\n",
    "    simple_reg_demsequence = emtk.dem_model(*simpl_out, simple_reg_dem_wrapper)\n",
    "    with open(pk_file, 'wb') as file:\n",
    "        pickle.dump((simple_reg_demsequence, simpl_out), file)\n",
    "\n",
    "em_collection.add_model(simple_reg_demsequence)\n",
    "simpl_coeffs, simpl_logts, simpl_bases, simpl_coords, simpl_algorithm = simpl_out\n",
    "# print(simpl_out)"
   ]
  },
  {
   "cell_type": "code",
   "execution_count": null,
   "id": "6fae649f",
   "metadata": {},
   "outputs": [],
   "source": [
    "spars_synthdata = em_collection.synthesize_data(trlogts,tresps,algorithm=spars_algorithm)"
   ]
  },
  {
   "cell_type": "code",
   "execution_count": null,
   "id": "f38d28b2",
   "metadata": {},
   "outputs": [],
   "source": [
    "simpl_synthdata = em_collection.synthesize_data(trlogts,tresps,algorithm=simpl_algorithm)"
   ]
  },
  {
   "cell_type": "code",
   "execution_count": null,
   "id": "a8005dd9",
   "metadata": {},
   "outputs": [],
   "source": [
    "def calc_resids(synthdata, em_collection):# Calculate the residuals and Chi squared:\n",
    "    ndata = len(synthdata)\n",
    "    resids = []\n",
    "    datasequence = em_collection.data()\n",
    "    chi2 = 0\n",
    "    [nx,ny] = datasequence[0].data.shape\n",
    "    for seq in datasequence: [nx,ny] = [np.min([seq.data.shape[0],nx]),np.min([seq.data.shape[1],ny])]\n",
    "    for i in range(0,ndata):\n",
    "        exptime = datasequence[i].meta['exptime']\n",
    "        nx = np.min([synthdata[i].data.shape[0],datasequence[i].data.shape[0],datasequence[i].uncertainty.array.shape[0]])\n",
    "        ny = np.min([synthdata[i].data.shape[1],datasequence[i].data.shape[1],datasequence[i].uncertainty.array.shape[1]])\n",
    "        resids.append(((exptime*synthdata[i].data[0:nx,0:ny]-datasequence[i].data[0:nx,0:ny])/datasequence[i].uncertainty.array[0:nx,0:ny])**2)\n",
    "        chi2 += np.mean(resids)/ndata\n",
    "    return resids, chi2\n",
    "\n",
    "spars_resids, spars_chi2 = calc_resids(spars_synthdata,em_collection)\n",
    "simpl_resids, simpl_chi2 = calc_resids(simpl_synthdata,em_collection)\n",
    "print('simple_reg_dem Chi squared = ',simpl_chi2, '\\nspars_em Chi squared = ',spars_chi2)"
   ]
  },
  {
   "cell_type": "code",
   "execution_count": null,
   "id": "6b3ed125",
   "metadata": {},
   "outputs": [],
   "source": [
    "do_resid_plots = False\n",
    "if do_resid_plots:\n",
    "    # Plot Residuals:\n",
    "    fig = plt.figure(figsize=[20,12])\n",
    "    plt.suptitle('Residuals for '+simpl_algorithm)\n",
    "    for i in range(0,6):\n",
    "        ax1 = fig.add_subplot(2,3,i+1)\n",
    "        ax1.imshow(simpl_resids[i],vmin=0,vmax=5)\n",
    "        ax1.set(title=em_collection.data()[i].meta['channel'])\n",
    "\n",
    "    # Plot Residuals:\n",
    "    fig = plt.figure(figsize=[20,12])\n",
    "    plt.suptitle('Residuals for '+spars_algorithm)\n",
    "    for i in range(0,6):\n",
    "        ax1 = fig.add_subplot(2,3,i+1)\n",
    "        ax1.imshow(spars_resids[i],vmin=0,vmax=5)\n",
    "        ax1.set(title=em_collection.data()[i].meta['channel'])"
   ]
  },
  {
   "cell_type": "markdown",
   "id": "37a8249f",
   "metadata": {},
   "source": [
    "### Run the Dashboard"
   ]
  },
  {
   "cell_type": "code",
   "execution_count": null,
   "id": "52bcd063",
   "metadata": {},
   "outputs": [],
   "source": [
    "# Get the most recent version from the tool kit:\n",
    "importlib.reload(EMToolKit.visualization.dashboard)\n",
    "from EMToolKit.visualization.dashboard import dashboard_object\n",
    "\n",
    "# Create the dashboard:\n",
    "dash = dashboard_object(em_collection)\n",
    "dash.display()"
   ]
  }
 ],
 "metadata": {
  "kernelspec": {
   "display_name": "Python 3 (ipykernel)",
   "language": "python",
   "name": "python3"
  },
  "language_info": {
   "codemirror_mode": {
    "name": "ipython",
    "version": 3
   },
   "file_extension": ".py",
   "mimetype": "text/x-python",
   "name": "python",
   "nbconvert_exporter": "python",
   "pygments_lexer": "ipython3",
   "version": "3.10.12"
  }
 },
 "nbformat": 4,
 "nbformat_minor": 5
}
